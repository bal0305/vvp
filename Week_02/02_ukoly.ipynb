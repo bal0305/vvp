{
 "cells": [
  {
   "attachments": {},
   "cell_type": "markdown",
   "metadata": {},
   "source": [
    "# Úlohy:\n",
    "\n",
    "## Proměnné a datové typy:\n"
   ]
  },
  {
   "cell_type": "markdown",
   "metadata": {},
   "source": [
    "1. Deklarujte proměnnou s názvem ``jmeno`` a přiřaďte jí řetězec s vaším jménem.\n"
   ]
  },
  {
   "cell_type": "code",
   "execution_count": 1,
   "metadata": {},
   "outputs": [
    {
     "name": "stdout",
     "output_type": "stream",
     "text": [
      "jarda\n",
      "JARDA\n"
     ]
    }
   ],
   "source": [
    "jmeno = \"jarda\"\n",
    "print(jmeno)\n",
    "print(jmeno.upper())    "
   ]
  },
  {
   "cell_type": "markdown",
   "metadata": {},
   "source": [
    "\n",
    "2. Vytiskněte typ proměnné ``jmeno``.\n"
   ]
  },
  {
   "cell_type": "code",
   "execution_count": 2,
   "metadata": {},
   "outputs": [
    {
     "name": "stdout",
     "output_type": "stream",
     "text": [
      "jarda\n"
     ]
    }
   ],
   "source": [
    "print(jmeno)"
   ]
  },
  {
   "cell_type": "markdown",
   "metadata": {},
   "source": [
    "\n",
    "3. Deklarujte proměnnou ``vek`` a přiřaďte jí vaše číslo věku. Jaký typ bude mít tato proměnná?\n"
   ]
  },
  {
   "cell_type": "code",
   "execution_count": 1,
   "metadata": {},
   "outputs": [
    {
     "name": "stdout",
     "output_type": "stream",
     "text": [
      "25\n"
     ]
    },
    {
     "data": {
      "text/plain": [
       "int"
      ]
     },
     "execution_count": 1,
     "metadata": {},
     "output_type": "execute_result"
    }
   ],
   "source": [
    "vek = 25\n",
    "print(vek)\n",
    "type(vek)\n"
   ]
  },
  {
   "cell_type": "markdown",
   "metadata": {},
   "source": [
    "\n",
    "4. Převeďte ``vek`` na typ float a uložte do nové proměnné ``vek_float``.\n"
   ]
  },
  {
   "cell_type": "code",
   "execution_count": 2,
   "metadata": {},
   "outputs": [],
   "source": [
    "vek_float= float(vek)"
   ]
  },
  {
   "cell_type": "markdown",
   "metadata": {},
   "source": [
    "\n",
    "5. Vytiskněte hodnoty ``vek`` a ``vek_float``.\n"
   ]
  },
  {
   "cell_type": "code",
   "execution_count": 3,
   "metadata": {},
   "outputs": [
    {
     "name": "stdout",
     "output_type": "stream",
     "text": [
      "25.0\n",
      "25\n"
     ]
    }
   ],
   "source": [
    "print(vek_float)\n",
    "print(vek)"
   ]
  },
  {
   "cell_type": "markdown",
   "metadata": {},
   "source": [
    "\n",
    "6. Deklarujte proměnnou ``seznam`` a přiřaďte jí list s třemi čísly.\n"
   ]
  },
  {
   "cell_type": "code",
   "execution_count": 4,
   "metadata": {},
   "outputs": [],
   "source": [
    "seznam = [1, 2, 3, 4, 5]"
   ]
  },
  {
   "cell_type": "markdown",
   "metadata": {},
   "source": [
    "\n",
    "7. Vytiskněte druhý prvek z listu ``seznam``.\n"
   ]
  },
  {
   "cell_type": "code",
   "execution_count": 5,
   "metadata": {},
   "outputs": [
    {
     "name": "stdout",
     "output_type": "stream",
     "text": [
      "2\n"
     ]
    }
   ],
   "source": [
    "print(seznam[1])\n"
   ]
  },
  {
   "cell_type": "markdown",
   "metadata": {},
   "source": [
    "\n",
    "8. Přidejte na konec listu ``seznam`` další číslo.\n"
   ]
  },
  {
   "cell_type": "code",
   "execution_count": 6,
   "metadata": {},
   "outputs": [
    {
     "name": "stdout",
     "output_type": "stream",
     "text": [
      "[1, 2, 3, 4, 5, 6]\n"
     ]
    }
   ],
   "source": [
    "seznam.append(6)\n",
    "print(seznam)\n"
   ]
  },
  {
   "cell_type": "markdown",
   "metadata": {},
   "source": [
    "\n",
    "9. Vytiskněte délku listu ``seznam``.\n"
   ]
  },
  {
   "cell_type": "code",
   "execution_count": 7,
   "metadata": {},
   "outputs": [
    {
     "data": {
      "text/plain": [
       "6"
      ]
     },
     "execution_count": 7,
     "metadata": {},
     "output_type": "execute_result"
    }
   ],
   "source": [
    "len(seznam)\n"
   ]
  },
  {
   "cell_type": "markdown",
   "metadata": {},
   "source": [
    "\n",
    "10. Deklarujte proměnnou ``slovnik`` a přiřaďte jí slovník s páry klíč-hodnota, kde klíče budou řetězce \"jmeno\" a \"vek\" a hodnoty budou vaše jméno a věk.\n"
   ]
  },
  {
   "cell_type": "code",
   "execution_count": 8,
   "metadata": {},
   "outputs": [],
   "source": [
    "slovnik = {\"jmeno\": \"Jarda\", \"vek\": 25}"
   ]
  },
  {
   "cell_type": "markdown",
   "metadata": {},
   "source": [
    "\n",
    "11. Vytiskněte hodnotu s klíčem \"jmeno\" ze slovníku ``slovnik``.\n"
   ]
  },
  {
   "cell_type": "code",
   "execution_count": 9,
   "metadata": {},
   "outputs": [
    {
     "name": "stdout",
     "output_type": "stream",
     "text": [
      "Jarda\n"
     ]
    }
   ],
   "source": [
    "print(slovnik[\"jmeno\"])"
   ]
  },
  {
   "cell_type": "markdown",
   "metadata": {},
   "source": [
    "\n",
    "12. Přidejte do slovníku ``slovnik`` další pár klíč-hodnota, kde klíč bude \"mesto\" a hodnota bude vaše rodné město.\n"
   ]
  },
  {
   "cell_type": "code",
   "execution_count": 10,
   "metadata": {},
   "outputs": [
    {
     "name": "stdout",
     "output_type": "stream",
     "text": [
      "{'jmeno': 'Jarda', 'vek': 25, 'prijmeni': 'Novak'}\n"
     ]
    }
   ],
   "source": [
    "slovnik[\"prijmeni\"] = \"Novak\"\n",
    "print(slovnik)\n"
   ]
  },
  {
   "cell_type": "markdown",
   "metadata": {},
   "source": [
    "\n",
    "13. Vytiskněte všechny klíče ze slovníku ``slovnik``.\n"
   ]
  },
  {
   "cell_type": "code",
   "execution_count": 11,
   "metadata": {},
   "outputs": [
    {
     "name": "stdout",
     "output_type": "stream",
     "text": [
      "dict_keys(['jmeno', 'vek', 'prijmeni'])\n"
     ]
    }
   ],
   "source": [
    "print(slovnik.keys())"
   ]
  },
  {
   "cell_type": "markdown",
   "metadata": {},
   "source": [
    "\n",
    "14. Deklarujte proměnnou ``cislo`` a přiřaďte jí řetězec s číslem \"5\".\n"
   ]
  },
  {
   "cell_type": "code",
   "execution_count": null,
   "metadata": {},
   "outputs": [],
   "source": [
    "cislo = 5\n"
   ]
  },
  {
   "cell_type": "markdown",
   "metadata": {},
   "source": [
    "\n",
    "15. Převodte ``cislo`` na typ int a uložte do nové proměnné ``cislo_int``.\n"
   ]
  },
  {
   "cell_type": "code",
   "execution_count": 13,
   "metadata": {},
   "outputs": [],
   "source": [
    "cislo_int = int(cislo)"
   ]
  },
  {
   "cell_type": "markdown",
   "metadata": {},
   "source": [
    "\n",
    "16. Vytiskněte hodnoty ``cislo`` a ``cislo_int``.\n"
   ]
  },
  {
   "cell_type": "code",
   "execution_count": 14,
   "metadata": {},
   "outputs": [
    {
     "name": "stdout",
     "output_type": "stream",
     "text": [
      "5\n",
      "5\n"
     ]
    }
   ],
   "source": [
    "print(cislo_int)\n",
    "print(cislo)\n"
   ]
  },
  {
   "cell_type": "markdown",
   "metadata": {},
   "source": [
    "\n",
    "17. Deklarujte proměnnou ``boolean`` a přiřaďte jí hodnotu True.\n"
   ]
  },
  {
   "cell_type": "code",
   "execution_count": 15,
   "metadata": {},
   "outputs": [],
   "source": [
    "bool = True\n"
   ]
  },
  {
   "cell_type": "markdown",
   "metadata": {},
   "source": [
    "\n",
    "18. Vytiskněte typ proměnné ``boolean``.\n"
   ]
  },
  {
   "cell_type": "code",
   "execution_count": 16,
   "metadata": {},
   "outputs": [
    {
     "name": "stdout",
     "output_type": "stream",
     "text": [
      "True\n"
     ]
    }
   ],
   "source": [
    "print(\n",
    "    bool\n",
    ")"
   ]
  },
  {
   "cell_type": "markdown",
   "metadata": {},
   "source": [
    "\n",
    "19. Deklarujte proměnnou ``prazdny_list`` a přiřaďte jí prázdný list.\n"
   ]
  },
  {
   "cell_type": "code",
   "execution_count": 17,
   "metadata": {},
   "outputs": [],
   "source": [
    "prazdny_list = []"
   ]
  },
  {
   "cell_type": "markdown",
   "metadata": {},
   "source": [
    "\n",
    "20. Vytiskněte typ proměnné ``prazdny_list``.\n"
   ]
  },
  {
   "cell_type": "code",
   "execution_count": 18,
   "metadata": {},
   "outputs": [
    {
     "name": "stdout",
     "output_type": "stream",
     "text": [
      "<class 'list'>\n"
     ]
    }
   ],
   "source": [
    "print(type(prazdny_list))"
   ]
  },
  {
   "cell_type": "markdown",
   "metadata": {},
   "source": [
    "\n",
    "21. Deklarujte proměnnou ``cislo1`` a přiřaďte jí číslo 5. Deklarujte proměnnou ``cislo2`` a přiřaďte jí číslo 5. Zkontrolujte pomocí funkce ``id()``, zda se obě proměnné odkazují na stejný objekt.\n"
   ]
  },
  {
   "cell_type": "code",
   "execution_count": null,
   "metadata": {},
   "outputs": [
    {
     "data": {
      "text/plain": [
       "False"
      ]
     },
     "execution_count": 23,
     "metadata": {},
     "output_type": "execute_result"
    }
   ],
   "source": [
    "cislo1 = 5\n",
    "cislo2 = 5\n",
    "id(cislo1) == id(cislo2)\n"
   ]
  },
  {
   "cell_type": "markdown",
   "metadata": {},
   "source": [
    "\n",
    "22. Deklarujte proměnnou ``retezec1`` a přiřaďte jí řetězec \"ahoj\". Deklarujte proměnnou ``retezec2`` a přiřaďte jí řetězec \"ahoj\". Zkontrolujte pomocí funkce ``id()``, zda se obě proměnné odkazují na stejný objekt.\n"
   ]
  },
  {
   "cell_type": "code",
   "execution_count": 24,
   "metadata": {},
   "outputs": [
    {
     "data": {
      "text/plain": [
       "False"
      ]
     },
     "execution_count": 24,
     "metadata": {},
     "output_type": "execute_result"
    }
   ],
   "source": [
    "retezec1 = \"Ahoj\"\n",
    "retezec2 = \"ahoj\"\n",
    "id(retezec1) == id(retezec2)    "
   ]
  },
  {
   "cell_type": "markdown",
   "metadata": {},
   "source": [
    "\n",
    "23. Deklarujte proměnnou ``seznam1`` a přiřaďte jí seznam [1, 2, 3]. Deklarujte proměnnou ``seznam2`` a přiřaďte jí seznam [1, 2, 3]. Zkontrolujte pomocí funkce ``id()``, zda se obě proměnné odkazují na stejný objekt.\n"
   ]
  },
  {
   "cell_type": "code",
   "execution_count": 25,
   "metadata": {},
   "outputs": [
    {
     "data": {
      "text/plain": [
       "False"
      ]
     },
     "execution_count": 25,
     "metadata": {},
     "output_type": "execute_result"
    }
   ],
   "source": [
    "seznam1 = [1, 2, 3]\n",
    "seznam2 = [1, 2, 3]\n",
    "id(seznam1) == id(seznam2)"
   ]
  },
  {
   "cell_type": "markdown",
   "metadata": {},
   "source": [
    "\n",
    "24. Deklarujte proměnnou ``slovnik1`` a přiřaďte jí slovník {\"jmeno\": \"Jan\", \"vek\": 30}. Deklarujte proměnnou ``slovnik2`` a přiřaďte jí ``slovnik1``. Zkontrolujte pomocí funkce ``id()``, zda se obě proměnné odkazují na stejný objekt.\n",
    "\n",
    "Modifikujte (přidáním záznamu) slovník ``slovnik1`` a zkontrolujte, zda se změna projeví i ve slovníku ``slovnik2``.\n"
   ]
  },
  {
   "cell_type": "code",
   "execution_count": 27,
   "metadata": {},
   "outputs": [
    {
     "name": "stdout",
     "output_type": "stream",
     "text": [
      "{'jmeno': 'Jarda', 'vek': 25, 'prijmeni': 'Novak'}\n"
     ]
    }
   ],
   "source": [
    "slovnik1 = {\"jmeno\": \"Jarda\", \"vek\": 25}\n",
    "slovnik2 = slovnik1\n",
    "slovnik1[\"prijmeni\"] = \"Novak\"\n",
    "print(slovnik2)"
   ]
  },
  {
   "cell_type": "markdown",
   "metadata": {},
   "source": [
    "\n",
    "25. Vytvořte list ``seznam`` s čísly 1, 2, 3, 4, 5. Pomocí slicingu z něj vytvořte nový seznam ``novy_seznam`` s pouze sudými čísly.\n",
    "\n"
   ]
  },
  {
   "cell_type": "code",
   "execution_count": 32,
   "metadata": {},
   "outputs": [
    {
     "name": "stdout",
     "output_type": "stream",
     "text": [
      "[2, 4, 6, 8, 10]\n"
     ]
    }
   ],
   "source": [
    "seznam1 = [1, 2, 3, 4, 5, 6, 7, 8, 9, 10]\n",
    "novy_seznam = seznam1[1::2]\n",
    "print(novy_seznam)"
   ]
  },
  {
   "cell_type": "markdown",
   "metadata": {},
   "source": [
    "\n",
    "26. Pokud změníte prvek v listu ``novy_seznam`` z minulé úlohy, změní se i prvek v listu ``seznam``? "
   ]
  },
  {
   "cell_type": "code",
   "execution_count": 35,
   "metadata": {},
   "outputs": [
    {
     "name": "stdout",
     "output_type": "stream",
     "text": [
      "[2, 4, 6, 8, 10, 5, 5, 512]\n",
      "[1, 2, 3, 4, 5, 6, 7, 8, 9, 10]\n"
     ]
    }
   ],
   "source": [
    "novy_seznam.append(512)\n",
    "print(novy_seznam)\n",
    "print(seznam1)"
   ]
  },
  {
   "cell_type": "markdown",
   "metadata": {},
   "source": [
    "\n",
    "27. Deklarujte proměnnou ``seznam`` a přiřaďte jí seznam [1, 2, 3]. Změňte hodnotu druhého prvku v seznamu ``seznam`` na 5. Ukažte, že změna hodnoty nemění ID objektu.\n"
   ]
  },
  {
   "cell_type": "code",
   "execution_count": 36,
   "metadata": {},
   "outputs": [
    {
     "name": "stdout",
     "output_type": "stream",
     "text": [
      "1600988950208\n",
      "1600988950208\n"
     ]
    }
   ],
   "source": [
    "seznam = [1, 2, 3]\n",
    "print(id(seznam))\n",
    "seznam[1] = 5\t\n",
    "print(id(seznam))   "
   ]
  },
  {
   "cell_type": "markdown",
   "metadata": {},
   "source": [
    "\n",
    "28. Deklarujte proměnnou ``retezec`` a přiřaďte jí řetězec \"ahoj\". Zkuste změnit první písmeno řetězce na \"A\"."
   ]
  },
  {
   "cell_type": "code",
   "execution_count": 37,
   "metadata": {},
   "outputs": [
    {
     "data": {
      "text/plain": [
       "'Ahoj'"
      ]
     },
     "execution_count": 37,
     "metadata": {},
     "output_type": "execute_result"
    }
   ],
   "source": [
    "retezec1 = \"Ahoj\"\n",
    "retezec1.capitalize()"
   ]
  },
  {
   "attachments": {},
   "cell_type": "markdown",
   "metadata": {},
   "source": [
    "## Operátory:\n",
    "\n",
    "1. Vytvoř dvojice proměnných typů: int, float, str, bool, list."
   ]
  },
  {
   "cell_type": "code",
   "execution_count": 69,
   "metadata": {},
   "outputs": [
    {
     "name": "stdout",
     "output_type": "stream",
     "text": [
      "[25, 'dvacetpět', 3]\n"
     ]
    }
   ],
   "source": [
    "vek = 25\n",
    "vekfl = 25.44\n",
    "vekslovne = \"dvacetpět\"\n",
    "bool = True \n",
    "list = [25,\"dvacetpět\" , 3]\n",
    "print(list\n",
    "      )"
   ]
  },
  {
   "cell_type": "markdown",
   "metadata": {},
   "source": [
    "2. Postupně si ozkoušejte co dělají matematické operátory pro různé typy proměnných."
   ]
  },
  {
   "cell_type": "code",
   "execution_count": 71,
   "metadata": {},
   "outputs": [
    {
     "data": {
      "text/plain": [
       "636.0"
      ]
     },
     "execution_count": 71,
     "metadata": {},
     "output_type": "execute_result"
    }
   ],
   "source": [
    "vek * vekfl "
   ]
  },
  {
   "cell_type": "markdown",
   "metadata": {},
   "source": [
    "3. Napište program, který spočítá absolutní hodnotu zadaného čísla (bez použití `abs()`, použíjte ternární operátor).\n"
   ]
  },
  {
   "cell_type": "code",
   "execution_count": 49,
   "metadata": {},
   "outputs": [
    {
     "name": "stdout",
     "output_type": "stream",
     "text": [
      "liché\n",
      "sudé\n",
      "liché\n"
     ]
    }
   ],
   "source": [
    "def sudeliche(vek):\n",
    "    if (vek % 2) == 0:\n",
    "        print(\"sudé\")\n",
    "    else:\n",
    "        print(\"liché\")\n",
    "sudeliche(25)\n",
    "sudeliche(50)\n",
    "sudeliche(51\n",
    "\n",
    ")\n"
   ]
  },
  {
   "attachments": {},
   "cell_type": "markdown",
   "metadata": {},
   "source": [
    "\n",
    "## Klíčová slova a vestavěné funkce:\n",
    "\n",
    "1. Použij funkci `dir()` k zobrazení seznamu všech funkcí a proměnných pro různé typy/moduly."
   ]
  },
  {
   "cell_type": "code",
   "execution_count": 50,
   "metadata": {},
   "outputs": [
    {
     "data": {
      "text/plain": [
       "['__abs__',\n",
       " '__add__',\n",
       " '__bool__',\n",
       " '__ceil__',\n",
       " '__class__',\n",
       " '__delattr__',\n",
       " '__dir__',\n",
       " '__divmod__',\n",
       " '__doc__',\n",
       " '__eq__',\n",
       " '__float__',\n",
       " '__floor__',\n",
       " '__floordiv__',\n",
       " '__format__',\n",
       " '__ge__',\n",
       " '__getattribute__',\n",
       " '__getformat__',\n",
       " '__getnewargs__',\n",
       " '__gt__',\n",
       " '__hash__',\n",
       " '__init__',\n",
       " '__init_subclass__',\n",
       " '__int__',\n",
       " '__le__',\n",
       " '__lt__',\n",
       " '__mod__',\n",
       " '__mul__',\n",
       " '__ne__',\n",
       " '__neg__',\n",
       " '__new__',\n",
       " '__pos__',\n",
       " '__pow__',\n",
       " '__radd__',\n",
       " '__rdivmod__',\n",
       " '__reduce__',\n",
       " '__reduce_ex__',\n",
       " '__repr__',\n",
       " '__rfloordiv__',\n",
       " '__rmod__',\n",
       " '__rmul__',\n",
       " '__round__',\n",
       " '__rpow__',\n",
       " '__rsub__',\n",
       " '__rtruediv__',\n",
       " '__set_format__',\n",
       " '__setattr__',\n",
       " '__sizeof__',\n",
       " '__str__',\n",
       " '__sub__',\n",
       " '__subclasshook__',\n",
       " '__truediv__',\n",
       " '__trunc__',\n",
       " 'as_integer_ratio',\n",
       " 'conjugate',\n",
       " 'fromhex',\n",
       " 'hex',\n",
       " 'imag',\n",
       " 'is_integer',\n",
       " 'real']"
      ]
     },
     "execution_count": 50,
     "metadata": {},
     "output_type": "execute_result"
    }
   ],
   "source": [
    "dir(list)\n",
    "dir(str)\n",
    "dir(int)\n",
    "dir(bool)\n",
    "dir(dict)\n",
    "dir(set)\n",
    "dir(tuple)\n",
    "dir(float)\n"
   ]
  },
  {
   "attachments": {},
   "cell_type": "markdown",
   "metadata": {},
   "source": [
    "## Funkce + Podmínky a cykly:\n",
    "\n",
    "1. Vytvoř funkci, která vrací faktoriál přirozeného čísla\n"
   ]
  },
  {
   "cell_type": "code",
   "execution_count": 53,
   "metadata": {},
   "outputs": [
    {
     "name": "stdout",
     "output_type": "stream",
     "text": [
      "120\n",
      "3628800\n",
      "1\n"
     ]
    }
   ],
   "source": [
    "def faktorial(n):\n",
    "    if n <= 1:\n",
    "        return 1\n",
    "    else:\n",
    "        return n * faktorial(n-1)\n",
    "print(faktorial(5))\n",
    "print(faktorial(10))\n",
    "print(faktorial(0))"
   ]
  },
  {
   "cell_type": "markdown",
   "metadata": {},
   "source": [
    "2. Tutéž funkci napiš pomocí rekurze\n"
   ]
  },
  {
   "cell_type": "code",
   "execution_count": 59,
   "metadata": {},
   "outputs": [
    {
     "name": "stdout",
     "output_type": "stream",
     "text": [
      "120\n"
     ]
    }
   ],
   "source": [
    "n = 5  # Define the variable n\n",
    "rekurze = 1\n",
    "for i in range(1, n+1):\n",
    "    rekurze = rekurze * i\n",
    "print(rekurze)"
   ]
  },
  {
   "cell_type": "markdown",
   "metadata": {},
   "source": [
    "3. Vytvoř funkci, která vrací průměr čísel v listu\n"
   ]
  },
  {
   "cell_type": "code",
   "execution_count": 62,
   "metadata": {},
   "outputs": [
    {
     "data": {
      "text/plain": [
       "5.5"
      ]
     },
     "execution_count": 62,
     "metadata": {},
     "output_type": "execute_result"
    }
   ],
   "source": [
    "list = [1, 2, 3, 4, 5, 6, 7, 8, 9, 10]\n",
    "def prumer(list):\n",
    "    return sum(list) / len(list)\n",
    "prumer(list)"
   ]
  },
  {
   "cell_type": "markdown",
   "metadata": {},
   "source": [
    "4. Vytvoř funkci, která nalezne prvních n prvočísel"
   ]
  },
  {
   "cell_type": "code",
   "execution_count": 66,
   "metadata": {},
   "outputs": [
    {
     "name": "stdout",
     "output_type": "stream",
     "text": [
      "[2, 3, 5, 7, 11, 13, 17, 19, 23, 29]\n"
     ]
    }
   ],
   "source": [
    "def najdi_prvocisla_do_n(n):\n",
    "    # Vytvoříme seznam True hodnot pro čísla 0 až n\n",
    "    je_prvocislo = [True] * (n + 1)\n",
    "    je_prvocislo[0] = je_prvocislo[1] = False\n",
    "    \n",
    "    # Eratosthenovo síto\n",
    "    for i in range(2, int(n ** 0.5) + 1):\n",
    "        if je_prvocislo[i]:\n",
    "            # Označíme všechny násobky i jako ne-prvočísla\n",
    "            for j in range(i * i, n + 1, i):\n",
    "                je_prvocislo[j] = False\n",
    "    \n",
    "    # Vytvoříme seznam nalezených prvočísel\n",
    "    prvocisla = [i for i in range(n + 1) if je_prvocislo[i]]\n",
    "    return prvocisla\n",
    "\n",
    "# Příklad použití:\n",
    "print(najdi_prvocisla_do_n(30))  # Najde všechna prvočísla do 30"
   ]
  },
  {
   "cell_type": "markdown",
   "metadata": {},
   "source": [
    "---\n",
    "# Ladění"
   ]
  },
  {
   "cell_type": "markdown",
   "metadata": {},
   "source": [
    "**Euklidův algoritmus pro výpočet největšího společného dělitele (NSD) dvou čísel**\n",
    "\n",
    "```Mějme dána dvě přirozená čísla, uložená v proměnných u a w.\n",
    "Dokud w není nulové, opakuj:\n",
    "  Do r ulož zbytek po dělení čísla u číslem w\n",
    "  Do u ulož w\n",
    "  Do w ulož r\n",
    "Konec algoritmu, v u je uložen největší společný dělitel původních čísel."
   ]
  },
  {
   "cell_type": "markdown",
   "metadata": {},
   "source": [
    "## Úkoly:\n",
    "\n",
    "- Dejte Breakpoint na řádek 3, spusťte buňku v debug módu a sledujte jak se mění hodnoty proměnných u a w (odkrokujte si celý algoritmus).\n",
    "\n",
    "- Vytvořte podmíněný breakpoint na řádku 5, který se zastaví až když bude w rovno 0.\n",
    "\n",
    "- Nastavte logovací breakpoint na řádek 5, který vypíše hodnoty proměnných u a w."
   ]
  },
  {
   "cell_type": "code",
   "execution_count": 68,
   "metadata": {},
   "outputs": [
    {
     "name": "stdout",
     "output_type": "stream",
     "text": [
      "60060\n",
      "2142\n"
     ]
    },
    {
     "data": {
      "text/plain": [
       "42"
      ]
     },
     "execution_count": 68,
     "metadata": {},
     "output_type": "execute_result"
    }
   ],
   "source": [
    "def gcd(a, b):\n",
    "    # Euklidův algoritmus pro výpočet největšího společného dělitele (NSD) dvou čísel\n",
    "    u = a\n",
    "    w = b\n",
    "    while w != 0:\n",
    "        r = u % w\n",
    "        u = w\n",
    "        w = r\n",
    "    return u\n",
    "\n",
    "\n",
    "a = 2 * 2 * 3 * 5 * 7 * 11 * 13\n",
    "b = 2 * 3 * 3 * 7 * 17\n",
    "\n",
    "print(a)\n",
    "print(b)\n",
    "\n",
    "gcd(a, b)"
   ]
  }
 ],
 "metadata": {
  "kernelspec": {
   "display_name": "Python 3",
   "language": "python",
   "name": "python3"
  },
  "language_info": {
   "codemirror_mode": {
    "name": "ipython",
    "version": 3
   },
   "file_extension": ".py",
   "mimetype": "text/x-python",
   "name": "python",
   "nbconvert_exporter": "python",
   "pygments_lexer": "ipython3",
   "version": "3.9.1"
  },
  "orig_nbformat": 4,
  "vscode": {
   "interpreter": {
    "hash": "e7370f93d1d0cde622a1f8e1c04877d8463912d04d973331ad4851f04de6915a"
   }
  }
 },
 "nbformat": 4,
 "nbformat_minor": 2
}
